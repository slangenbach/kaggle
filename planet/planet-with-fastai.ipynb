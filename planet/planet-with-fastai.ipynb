{
 "cells": [
  {
   "cell_type": "markdown",
   "metadata": {
    "_uuid": "99ad0d91c0deb416dc9c718354c7e1030e131845"
   },
   "source": [
    "# About\n",
    "This kernel applies the techniques from fastai's deep learning for coders course to the planet dataset"
   ]
  },
  {
   "cell_type": "markdown",
   "metadata": {
    "_uuid": "ed9a446b8016c495a60ffad34869c69a19a70b26"
   },
   "source": [
    "# Setup\n",
    "Make sure that **GPU** is **on** and internet is **connected** in your Kaggle kernel settings"
   ]
  },
  {
   "cell_type": "code",
   "execution_count": 1,
   "metadata": {
    "_kg_hide-input": false,
    "_kg_hide-output": false,
    "_uuid": "ce0a94d6fd305ca64c411bdfe321d18bd1e27e09"
   },
   "outputs": [],
   "source": [
    "%reload_ext autoreload\n",
    "%autoreload 2\n",
    "%matplotlib inline"
   ]
  },
  {
   "cell_type": "code",
   "execution_count": 2,
   "metadata": {
    "_uuid": "cbcda782601f2dd638fa7ab4b4edc1cac08ef1f5"
   },
   "outputs": [
    {
     "name": "stderr",
     "output_type": "stream",
     "text": [
      "/home/ubuntu/src/anaconda3/envs/fastai/lib/python3.6/site-packages/sklearn/ensemble/weight_boosting.py:29: DeprecationWarning: numpy.core.umath_tests is an internal NumPy module and should not be imported. It will be removed in a future NumPy release.\n",
      "  from numpy.core.umath_tests import inner1d\n"
     ]
    }
   ],
   "source": [
    "import numpy as np\n",
    "import pandas as pd\n",
    "import matplotlib.pyplot as plt\n",
    "import os\n",
    "\n",
    "from fastai.conv_learner import *"
   ]
  },
  {
   "cell_type": "code",
   "execution_count": 3,
   "metadata": {
    "_kg_hide-output": true,
    "_uuid": "2e49063ee0823dce757309c6b04cf00e941480c9"
   },
   "outputs": [
    {
     "name": "stdout",
     "output_type": "stream",
     "text": [
      "True True\n"
     ]
    }
   ],
   "source": [
    "# make sure CUDA is available and enabled\n",
    "print(torch.cuda.is_available(), torch.backends.cudnn.enabled)"
   ]
  },
  {
   "cell_type": "code",
   "execution_count": 4,
   "metadata": {},
   "outputs": [],
   "source": [
    "comp_name = \"planet\"\n",
    "\n",
    "# use with custom environment\n",
    "input_path = \"/home/ubuntu/data/planet/\"\n",
    "wd = \"/home/ubuntu/kaggle/planet/\"\n",
    "\n",
    "# use with kaggle kernels\n",
    "#input_path = \"../input/\"\n",
    "#wd = \"/kaggle/working/\""
   ]
  },
  {
   "cell_type": "markdown",
   "metadata": {
    "_uuid": "0b4d4165b070e7bf493573c1e60677ffb2af1163"
   },
   "source": [
    "## Helper function to deal with Kaggle's file system limitations"
   ]
  },
  {
   "cell_type": "code",
   "execution_count": 4,
   "metadata": {
    "_uuid": "1b0bf480750c2fb904085bc9c8358b0e3ec1066b"
   },
   "outputs": [],
   "source": [
    "def create_symlnk(src_dir, src_name, dst_name, dst_dir=wd, target_is_dir=False):\n",
    "    \"\"\"\n",
    "    If symbolic link does not already exist, create it by pointing dst_dir/dst_name to src_dir/dst_name\n",
    "    \"\"\"\n",
    "    if not os.path.exists(dst_dir + dst_name):\n",
    "        os.symlink(src=src_dir + src_name, dst = dst_dir + dst_name, target_is_directory=target_is_dir)"
   ]
  },
  {
   "cell_type": "code",
   "execution_count": 13,
   "metadata": {
    "_uuid": "117dc7c5060074582750a260e04350e2c03373c8"
   },
   "outputs": [],
   "source": [
    "def clean_up(wd=wd):\n",
    "    \"\"\"\n",
    "    Delete all temporary directories and symlinks in working directory (wd)\n",
    "    \"\"\"\n",
    "    for root, dirs, files in os.walk(wd):\n",
    "        try:\n",
    "            for d in dirs:\n",
    "                if os.path.islink(d):\n",
    "                    os.unlink(d)\n",
    "                else:\n",
    "                    shutil.rmtree(d)\n",
    "            for f in files:\n",
    "                if os.path.islink(f):\n",
    "                    os.unlink(f)\n",
    "                else:\n",
    "                    print(f)\n",
    "        except FileNotFoundError as e:\n",
    "            print(e)"
   ]
  },
  {
   "cell_type": "code",
   "execution_count": 14,
   "metadata": {
    "_uuid": "6fb72b12e92638f10c3320c741f88ce79b76f56c"
   },
   "outputs": [
    {
     "ename": "FileNotFoundError",
     "evalue": "[Errno 2] No such file or directory: '/home/ubuntu/data/planet/train_v2.csv' -> 'home/ubuntu/kaggle/planet/train.csv'",
     "output_type": "error",
     "traceback": [
      "\u001b[0;31m-------------------------------------------------------------------\u001b[0m",
      "\u001b[0;31mFileNotFoundError\u001b[0m                 Traceback (most recent call last)",
      "\u001b[0;32m<ipython-input-14-24edca535677>\u001b[0m in \u001b[0;36m<module>\u001b[0;34m()\u001b[0m\n\u001b[0;32m----> 1\u001b[0;31m \u001b[0mcreate_symlnk\u001b[0m\u001b[0;34m(\u001b[0m\u001b[0minput_path\u001b[0m\u001b[0;34m,\u001b[0m \u001b[0;34m\"train_v2.csv\"\u001b[0m\u001b[0;34m,\u001b[0m \u001b[0;34m\"train.csv\"\u001b[0m\u001b[0;34m)\u001b[0m\u001b[0;34m\u001b[0m\u001b[0m\n\u001b[0m\u001b[1;32m      2\u001b[0m \u001b[0mcreate_symlnk\u001b[0m\u001b[0;34m(\u001b[0m\u001b[0minput_path\u001b[0m\u001b[0;34m,\u001b[0m \u001b[0;34m\"train-jpg\"\u001b[0m\u001b[0;34m,\u001b[0m \u001b[0;34m\"train\"\u001b[0m\u001b[0;34m,\u001b[0m \u001b[0mtarget_is_dir\u001b[0m\u001b[0;34m=\u001b[0m\u001b[0;32mTrue\u001b[0m\u001b[0;34m)\u001b[0m\u001b[0;34m\u001b[0m\u001b[0m\n\u001b[1;32m      3\u001b[0m \u001b[0mcreate_symlnk\u001b[0m\u001b[0;34m(\u001b[0m\u001b[0minput_path\u001b[0m\u001b[0;34m,\u001b[0m \u001b[0;34m\"test-jpg\"\u001b[0m\u001b[0;34m,\u001b[0m \u001b[0;34m\"test\"\u001b[0m\u001b[0;34m,\u001b[0m \u001b[0mtarget_is_dir\u001b[0m\u001b[0;34m=\u001b[0m\u001b[0;32mTrue\u001b[0m\u001b[0;34m)\u001b[0m\u001b[0;34m\u001b[0m\u001b[0m\n",
      "\u001b[0;32m<ipython-input-12-991582b0303f>\u001b[0m in \u001b[0;36mcreate_symlnk\u001b[0;34m(src_dir, src_name, dst_name, dst_dir, target_is_dir)\u001b[0m\n\u001b[1;32m      4\u001b[0m     \"\"\"\n\u001b[1;32m      5\u001b[0m     \u001b[0;32mif\u001b[0m \u001b[0;32mnot\u001b[0m \u001b[0mos\u001b[0m\u001b[0;34m.\u001b[0m\u001b[0mpath\u001b[0m\u001b[0;34m.\u001b[0m\u001b[0mexists\u001b[0m\u001b[0;34m(\u001b[0m\u001b[0mdst_dir\u001b[0m \u001b[0;34m+\u001b[0m \u001b[0mdst_name\u001b[0m\u001b[0;34m)\u001b[0m\u001b[0;34m:\u001b[0m\u001b[0;34m\u001b[0m\u001b[0m\n\u001b[0;32m----> 6\u001b[0;31m         \u001b[0mos\u001b[0m\u001b[0;34m.\u001b[0m\u001b[0msymlink\u001b[0m\u001b[0;34m(\u001b[0m\u001b[0msrc\u001b[0m\u001b[0;34m=\u001b[0m\u001b[0msrc_dir\u001b[0m \u001b[0;34m+\u001b[0m \u001b[0msrc_name\u001b[0m\u001b[0;34m,\u001b[0m \u001b[0mdst\u001b[0m \u001b[0;34m=\u001b[0m \u001b[0mdst_dir\u001b[0m \u001b[0;34m+\u001b[0m \u001b[0mdst_name\u001b[0m\u001b[0;34m,\u001b[0m \u001b[0mtarget_is_directory\u001b[0m\u001b[0;34m=\u001b[0m\u001b[0mtarget_is_dir\u001b[0m\u001b[0;34m)\u001b[0m\u001b[0;34m\u001b[0m\u001b[0m\n\u001b[0m",
      "\u001b[0;31mFileNotFoundError\u001b[0m: [Errno 2] No such file or directory: '/home/ubuntu/data/planet/train_v2.csv' -> 'home/ubuntu/kaggle/planet/train.csv'"
     ]
    }
   ],
   "source": [
    "create_symlnk(input_path, \"train_v2.csv\", \"train.csv\")\n",
    "create_symlnk(input_path, \"sample_submission_v2.csv\", \"sample.csv\")\n",
    "create_symlnk(input_path, \"train-jpg\", \"train\", target_is_dir=True)\n",
    "create_symlnk(input_path, \"test-jpg\", \"test\", target_is_dir=True)"
   ]
  },
  {
   "cell_type": "code",
   "execution_count": 18,
   "metadata": {
    "_kg_hide-output": true,
    "_uuid": "d1674cd078bbcc9d72a4635c5d5aa0a970635a8c"
   },
   "outputs": [
    {
     "name": "stdout",
     "output_type": "stream",
     "text": [
      "total 40K\r\n",
      "drwxrwxr-x 3 ubuntu ubuntu 4.0K Aug 22 14:09 .\r\n",
      "drwxrwxr-x 5 ubuntu ubuntu 4.0K Aug 22 13:32 ..\r\n",
      "drwxrwxr-x 2 ubuntu ubuntu 4.0K Aug 22 13:35 .ipynb_checkpoints\r\n",
      "-rw-r--r-- 1 ubuntu ubuntu  27K Aug 22 14:09 planet-with-fastai.ipynb\r\n",
      "lrwxrwxrwx 1 ubuntu ubuntu   33 Aug 22 14:05 test-jpg -> /home/ubuntu/data/planet/test-jpg\r\n",
      "lrwxrwxrwx 1 ubuntu ubuntu   34 Aug 22 14:06 train-jpg -> /home/ubuntu/data/planet/train-jpg\r\n",
      "lrwxrwxrwx 1 ubuntu ubuntu   37 Aug 22 14:04 train.csv -> /home/ubuntu/data/planet/train_v2.csv\r\n"
     ]
    }
   ],
   "source": [
    "!ls -alh"
   ]
  },
  {
   "cell_type": "markdown",
   "metadata": {
    "_uuid": "7eca661227ca60b13b2a2fcc0c632ce7e09f27d5"
   },
   "source": [
    "# Inspect data"
   ]
  },
  {
   "cell_type": "code",
   "execution_count": 5,
   "metadata": {
    "_uuid": "ac9f68c9863a898b83cebf9e08a86eb5bc8527b2"
   },
   "outputs": [],
   "source": [
    "train_df = pd.read_csv(f\"{wd}train.csv\")"
   ]
  },
  {
   "cell_type": "code",
   "execution_count": 6,
   "metadata": {
    "_uuid": "5ba9b1fe058edca6286400a48f43eb5bfb1f5b70"
   },
   "outputs": [
    {
     "data": {
      "text/html": [
       "<div>\n",
       "<style scoped>\n",
       "    .dataframe tbody tr th:only-of-type {\n",
       "        vertical-align: middle;\n",
       "    }\n",
       "\n",
       "    .dataframe tbody tr th {\n",
       "        vertical-align: top;\n",
       "    }\n",
       "\n",
       "    .dataframe thead th {\n",
       "        text-align: right;\n",
       "    }\n",
       "</style>\n",
       "<table border=\"1\" class=\"dataframe\">\n",
       "  <thead>\n",
       "    <tr style=\"text-align: right;\">\n",
       "      <th></th>\n",
       "      <th>image_name</th>\n",
       "      <th>tags</th>\n",
       "    </tr>\n",
       "  </thead>\n",
       "  <tbody>\n",
       "    <tr>\n",
       "      <th>0</th>\n",
       "      <td>train_0</td>\n",
       "      <td>haze primary</td>\n",
       "    </tr>\n",
       "    <tr>\n",
       "      <th>1</th>\n",
       "      <td>train_1</td>\n",
       "      <td>agriculture clear primary water</td>\n",
       "    </tr>\n",
       "    <tr>\n",
       "      <th>2</th>\n",
       "      <td>train_2</td>\n",
       "      <td>clear primary</td>\n",
       "    </tr>\n",
       "    <tr>\n",
       "      <th>3</th>\n",
       "      <td>train_3</td>\n",
       "      <td>clear primary</td>\n",
       "    </tr>\n",
       "    <tr>\n",
       "      <th>4</th>\n",
       "      <td>train_4</td>\n",
       "      <td>agriculture clear habitation primary road</td>\n",
       "    </tr>\n",
       "  </tbody>\n",
       "</table>\n",
       "</div>"
      ],
      "text/plain": [
       "  image_name                                       tags\n",
       "0    train_0                               haze primary\n",
       "1    train_1            agriculture clear primary water\n",
       "2    train_2                              clear primary\n",
       "3    train_3                              clear primary\n",
       "4    train_4  agriculture clear habitation primary road"
      ]
     },
     "execution_count": 6,
     "metadata": {},
     "output_type": "execute_result"
    }
   ],
   "source": [
    "train_df.head()"
   ]
  },
  {
   "cell_type": "code",
   "execution_count": 7,
   "metadata": {
    "_uuid": "38fa7dd85c906cf24f66d8c295a11438f5a17d23"
   },
   "outputs": [
    {
     "data": {
      "text/plain": [
       "(40479, 2)"
      ]
     },
     "execution_count": 7,
     "metadata": {},
     "output_type": "execute_result"
    }
   ],
   "source": [
    "train_df.shape"
   ]
  },
  {
   "cell_type": "code",
   "execution_count": 8,
   "metadata": {
    "_uuid": "8cb8a3685acff0f0cfcd0e12987825d6e1223c07"
   },
   "outputs": [
    {
     "data": {
      "text/html": [
       "<div>\n",
       "<style scoped>\n",
       "    .dataframe tbody tr th:only-of-type {\n",
       "        vertical-align: middle;\n",
       "    }\n",
       "\n",
       "    .dataframe tbody tr th {\n",
       "        vertical-align: top;\n",
       "    }\n",
       "\n",
       "    .dataframe thead th {\n",
       "        text-align: right;\n",
       "    }\n",
       "</style>\n",
       "<table border=\"1\" class=\"dataframe\">\n",
       "  <thead>\n",
       "    <tr style=\"text-align: right;\">\n",
       "      <th></th>\n",
       "      <th>image_name</th>\n",
       "    </tr>\n",
       "    <tr>\n",
       "      <th>tags</th>\n",
       "      <th></th>\n",
       "    </tr>\n",
       "  </thead>\n",
       "  <tbody>\n",
       "    <tr>\n",
       "      <th>clear primary</th>\n",
       "      <td>13636</td>\n",
       "    </tr>\n",
       "    <tr>\n",
       "      <th>partly_cloudy primary</th>\n",
       "      <td>3630</td>\n",
       "    </tr>\n",
       "    <tr>\n",
       "      <th>cloudy</th>\n",
       "      <td>2089</td>\n",
       "    </tr>\n",
       "    <tr>\n",
       "      <th>clear primary water</th>\n",
       "      <td>1850</td>\n",
       "    </tr>\n",
       "    <tr>\n",
       "      <th>agriculture clear primary road</th>\n",
       "      <td>1680</td>\n",
       "    </tr>\n",
       "    <tr>\n",
       "      <th>agriculture clear primary</th>\n",
       "      <td>1626</td>\n",
       "    </tr>\n",
       "    <tr>\n",
       "      <th>haze primary</th>\n",
       "      <td>1471</td>\n",
       "    </tr>\n",
       "    <tr>\n",
       "      <th>agriculture clear cultivation primary</th>\n",
       "      <td>1170</td>\n",
       "    </tr>\n",
       "    <tr>\n",
       "      <th>agriculture clear habitation primary road</th>\n",
       "      <td>1125</td>\n",
       "    </tr>\n",
       "    <tr>\n",
       "      <th>agriculture clear primary water</th>\n",
       "      <td>712</td>\n",
       "    </tr>\n",
       "    <tr>\n",
       "      <th>agriculture partly_cloudy primary</th>\n",
       "      <td>692</td>\n",
       "    </tr>\n",
       "    <tr>\n",
       "      <th>partly_cloudy primary water</th>\n",
       "      <td>595</td>\n",
       "    </tr>\n",
       "    <tr>\n",
       "      <th>agriculture partly_cloudy primary road</th>\n",
       "      <td>527</td>\n",
       "    </tr>\n",
       "    <tr>\n",
       "      <th>clear primary road water</th>\n",
       "      <td>504</td>\n",
       "    </tr>\n",
       "    <tr>\n",
       "      <th>clear cultivation primary</th>\n",
       "      <td>472</td>\n",
       "    </tr>\n",
       "    <tr>\n",
       "      <th>agriculture clear primary road water</th>\n",
       "      <td>449</td>\n",
       "    </tr>\n",
       "    <tr>\n",
       "      <th>agriculture clear cultivation primary road</th>\n",
       "      <td>381</td>\n",
       "    </tr>\n",
       "    <tr>\n",
       "      <th>haze primary water</th>\n",
       "      <td>314</td>\n",
       "    </tr>\n",
       "    <tr>\n",
       "      <th>agriculture cultivation partly_cloudy primary</th>\n",
       "      <td>309</td>\n",
       "    </tr>\n",
       "    <tr>\n",
       "      <th>agriculture clear cultivation habitation primary road</th>\n",
       "      <td>271</td>\n",
       "    </tr>\n",
       "    <tr>\n",
       "      <th>clear water</th>\n",
       "      <td>261</td>\n",
       "    </tr>\n",
       "    <tr>\n",
       "      <th>agriculture clear habitation primary road water</th>\n",
       "      <td>240</td>\n",
       "    </tr>\n",
       "    <tr>\n",
       "      <th>clear primary road</th>\n",
       "      <td>235</td>\n",
       "    </tr>\n",
       "    <tr>\n",
       "      <th>agriculture clear cultivation primary water</th>\n",
       "      <td>226</td>\n",
       "    </tr>\n",
       "    <tr>\n",
       "      <th>agriculture partly_cloudy primary water</th>\n",
       "      <td>195</td>\n",
       "    </tr>\n",
       "    <tr>\n",
       "      <th>clear habitation primary road</th>\n",
       "      <td>194</td>\n",
       "    </tr>\n",
       "    <tr>\n",
       "      <th>blooming clear primary</th>\n",
       "      <td>186</td>\n",
       "    </tr>\n",
       "    <tr>\n",
       "      <th>agriculture haze primary</th>\n",
       "      <td>172</td>\n",
       "    </tr>\n",
       "    <tr>\n",
       "      <th>agriculture habitation partly_cloudy primary road</th>\n",
       "      <td>169</td>\n",
       "    </tr>\n",
       "    <tr>\n",
       "      <th>bare_ground clear primary</th>\n",
       "      <td>161</td>\n",
       "    </tr>\n",
       "    <tr>\n",
       "      <th>...</th>\n",
       "      <td>...</td>\n",
       "    </tr>\n",
       "    <tr>\n",
       "      <th>artisinal_mine clear road water</th>\n",
       "      <td>1</td>\n",
       "    </tr>\n",
       "    <tr>\n",
       "      <th>artisinal_mine clear primary selective_logging water</th>\n",
       "      <td>1</td>\n",
       "    </tr>\n",
       "    <tr>\n",
       "      <th>agriculture partly_cloudy primary blow_down</th>\n",
       "      <td>1</td>\n",
       "    </tr>\n",
       "    <tr>\n",
       "      <th>agriculture clear primary conventional_mine</th>\n",
       "      <td>1</td>\n",
       "    </tr>\n",
       "    <tr>\n",
       "      <th>agriculture clear primary road conventional_mine</th>\n",
       "      <td>1</td>\n",
       "    </tr>\n",
       "    <tr>\n",
       "      <th>agriculture clear primary road water conventional_mine</th>\n",
       "      <td>1</td>\n",
       "    </tr>\n",
       "    <tr>\n",
       "      <th>agriculture clear primary slash_burn water</th>\n",
       "      <td>1</td>\n",
       "    </tr>\n",
       "    <tr>\n",
       "      <th>agriculture clear primary water conventional_mine</th>\n",
       "      <td>1</td>\n",
       "    </tr>\n",
       "    <tr>\n",
       "      <th>agriculture conventional_mine partly_cloudy primary</th>\n",
       "      <td>1</td>\n",
       "    </tr>\n",
       "    <tr>\n",
       "      <th>agriculture cultivation cultivation habitation partly_cloudy primary road</th>\n",
       "      <td>1</td>\n",
       "    </tr>\n",
       "    <tr>\n",
       "      <th>agriculture cultivation cultivation partly_cloudy primary water</th>\n",
       "      <td>1</td>\n",
       "    </tr>\n",
       "    <tr>\n",
       "      <th>agriculture cultivation partly_cloudy</th>\n",
       "      <td>1</td>\n",
       "    </tr>\n",
       "    <tr>\n",
       "      <th>agriculture habitation haze road</th>\n",
       "      <td>1</td>\n",
       "    </tr>\n",
       "    <tr>\n",
       "      <th>agriculture habitation partly_cloudy primary road water conventional_mine</th>\n",
       "      <td>1</td>\n",
       "    </tr>\n",
       "    <tr>\n",
       "      <th>agriculture haze primary road selective_logging</th>\n",
       "      <td>1</td>\n",
       "    </tr>\n",
       "    <tr>\n",
       "      <th>agriculture partly_cloudy primary road conventional_mine</th>\n",
       "      <td>1</td>\n",
       "    </tr>\n",
       "    <tr>\n",
       "      <th>artisinal_mine clear primary selective_logging</th>\n",
       "      <td>1</td>\n",
       "    </tr>\n",
       "    <tr>\n",
       "      <th>agriculture partly_cloudy primary road selective_logging</th>\n",
       "      <td>1</td>\n",
       "    </tr>\n",
       "    <tr>\n",
       "      <th>agriculture partly_cloudy road water</th>\n",
       "      <td>1</td>\n",
       "    </tr>\n",
       "    <tr>\n",
       "      <th>artisinal_mine bare_ground clear cultivation primary water</th>\n",
       "      <td>1</td>\n",
       "    </tr>\n",
       "    <tr>\n",
       "      <th>artisinal_mine bare_ground clear habitation road</th>\n",
       "      <td>1</td>\n",
       "    </tr>\n",
       "    <tr>\n",
       "      <th>artisinal_mine bare_ground clear primary</th>\n",
       "      <td>1</td>\n",
       "    </tr>\n",
       "    <tr>\n",
       "      <th>artisinal_mine bare_ground partly_cloudy primary road</th>\n",
       "      <td>1</td>\n",
       "    </tr>\n",
       "    <tr>\n",
       "      <th>artisinal_mine bare_ground partly_cloudy primary road water</th>\n",
       "      <td>1</td>\n",
       "    </tr>\n",
       "    <tr>\n",
       "      <th>artisinal_mine bare_ground partly_cloudy primary water</th>\n",
       "      <td>1</td>\n",
       "    </tr>\n",
       "    <tr>\n",
       "      <th>artisinal_mine clear conventional_mine primary road water</th>\n",
       "      <td>1</td>\n",
       "    </tr>\n",
       "    <tr>\n",
       "      <th>artisinal_mine clear cultivation primary road water</th>\n",
       "      <td>1</td>\n",
       "    </tr>\n",
       "    <tr>\n",
       "      <th>artisinal_mine clear habitation primary road</th>\n",
       "      <td>1</td>\n",
       "    </tr>\n",
       "    <tr>\n",
       "      <th>artisinal_mine clear primary road selective_logging water</th>\n",
       "      <td>1</td>\n",
       "    </tr>\n",
       "    <tr>\n",
       "      <th>water</th>\n",
       "      <td>1</td>\n",
       "    </tr>\n",
       "  </tbody>\n",
       "</table>\n",
       "<p>449 rows × 1 columns</p>\n",
       "</div>"
      ],
      "text/plain": [
       "                                                    image_name\n",
       "tags                                                          \n",
       "clear primary                                            13636\n",
       "partly_cloudy primary                                     3630\n",
       "cloudy                                                    2089\n",
       "clear primary water                                       1850\n",
       "agriculture clear primary road                            1680\n",
       "agriculture clear primary                                 1626\n",
       "haze primary                                              1471\n",
       "agriculture clear cultivation primary                     1170\n",
       "agriculture clear habitation primary road                 1125\n",
       "agriculture clear primary water                            712\n",
       "agriculture partly_cloudy primary                          692\n",
       "partly_cloudy primary water                                595\n",
       "agriculture partly_cloudy primary road                     527\n",
       "clear primary road water                                   504\n",
       "clear cultivation primary                                  472\n",
       "agriculture clear primary road water                       449\n",
       "agriculture clear cultivation primary road                 381\n",
       "haze primary water                                         314\n",
       "agriculture cultivation partly_cloudy primary              309\n",
       "agriculture clear cultivation habitation primar...         271\n",
       "clear water                                                261\n",
       "agriculture clear habitation primary road water            240\n",
       "clear primary road                                         235\n",
       "agriculture clear cultivation primary water                226\n",
       "agriculture partly_cloudy primary water                    195\n",
       "clear habitation primary road                              194\n",
       "blooming clear primary                                     186\n",
       "agriculture haze primary                                   172\n",
       "agriculture habitation partly_cloudy primary road          169\n",
       "bare_ground clear primary                                  161\n",
       "...                                                        ...\n",
       "artisinal_mine clear road water                              1\n",
       "artisinal_mine clear primary selective_logging ...           1\n",
       "agriculture partly_cloudy primary blow_down                  1\n",
       "agriculture clear primary conventional_mine                  1\n",
       "agriculture clear primary road conventional_mine             1\n",
       "agriculture clear primary road water convention...           1\n",
       "agriculture clear primary slash_burn water                   1\n",
       "agriculture clear primary water conventional_mine            1\n",
       "agriculture conventional_mine partly_cloudy pri...           1\n",
       "agriculture cultivation cultivation habitation ...           1\n",
       "agriculture cultivation cultivation partly_clou...           1\n",
       "agriculture cultivation partly_cloudy                        1\n",
       "agriculture habitation haze road                             1\n",
       "agriculture habitation partly_cloudy primary ro...           1\n",
       "agriculture haze primary road selective_logging              1\n",
       "agriculture partly_cloudy primary road conventi...           1\n",
       "artisinal_mine clear primary selective_logging               1\n",
       "agriculture partly_cloudy primary road selectiv...           1\n",
       "agriculture partly_cloudy road water                         1\n",
       "artisinal_mine bare_ground clear cultivation pr...           1\n",
       "artisinal_mine bare_ground clear habitation road             1\n",
       "artisinal_mine bare_ground clear primary                     1\n",
       "artisinal_mine bare_ground partly_cloudy primar...           1\n",
       "artisinal_mine bare_ground partly_cloudy primar...           1\n",
       "artisinal_mine bare_ground partly_cloudy primar...           1\n",
       "artisinal_mine clear conventional_mine primary ...           1\n",
       "artisinal_mine clear cultivation primary road w...           1\n",
       "artisinal_mine clear habitation primary road                 1\n",
       "artisinal_mine clear primary road selective_log...           1\n",
       "water                                                        1\n",
       "\n",
       "[449 rows x 1 columns]"
      ]
     },
     "execution_count": 8,
     "metadata": {},
     "output_type": "execute_result"
    }
   ],
   "source": [
    "train_df.pivot_table(index=\"tags\", aggfunc=len).sort_values(\"image_name\", ascending=False)"
   ]
  },
  {
   "cell_type": "code",
   "execution_count": 6,
   "metadata": {
    "_uuid": "05fe4f0ec62bcd2fefbbc99bc43baf32bf862661"
   },
   "outputs": [],
   "source": [
    "val_idxs = get_cv_idxs(train_df.shape[0])"
   ]
  },
  {
   "cell_type": "code",
   "execution_count": 7,
   "metadata": {
    "_uuid": "bdf3eb54dc061b3a5bd03b0053e36eebb3430abc"
   },
   "outputs": [],
   "source": [
    "def f2(preds, targs, start=0.17, end=0.24, step=0.01):\n",
    "    \"\"\"\n",
    "    Use F2 score function from https://github.com/fastai/fastai/blob/master/courses/dl1/planet.py\n",
    "    \"\"\"\n",
    "    import warnings\n",
    "    from sklearn.metrics import fbeta_score\n",
    "    \n",
    "    with warnings.catch_warnings():\n",
    "        warnings.simplefilter(\"ignore\")\n",
    "        return max([fbeta_score(targs, (preds>th), 2, average='samples')\n",
    "                    for th in np.arange(start,end,step)])"
   ]
  },
  {
   "cell_type": "code",
   "execution_count": 8,
   "metadata": {
    "_uuid": "589f913e3d45e0957d43187124301836ab170adf"
   },
   "outputs": [],
   "source": [
    "arch = resnet34\n",
    "metrics = [f2]\n",
    "sz = 224\n",
    "bs = 64"
   ]
  },
  {
   "cell_type": "code",
   "execution_count": 11,
   "metadata": {
    "_uuid": "0b910e9067f908a22ff1b55284bcdf18d42a6b4c"
   },
   "outputs": [],
   "source": [
    "def get_data(sz=sz):\n",
    "    \"\"\"\n",
    "    Load images via fastai's ImageClassifer.from_csv() object\n",
    "    \"\"\"\n",
    "    tfms = tfms_from_model(arch, sz, aug_tfms=transforms_top_down, max_zoom=1.05)\n",
    "    return ImageClassifierData.from_csv(path=wd, folder=\"train\", csv_fname=f\"{wd}train.csv\", tfms=tfms, val_idxs=val_idxs, suffix=\".jpg\", test_name=\"test\")"
   ]
  },
  {
   "cell_type": "code",
   "execution_count": 12,
   "metadata": {
    "_uuid": "e943f586e1af393bebb351affc695a347a9b594a"
   },
   "outputs": [],
   "source": [
    "data = get_data()"
   ]
  },
  {
   "cell_type": "code",
   "execution_count": 13,
   "metadata": {
    "_uuid": "0227081cb374fa9a23c434963313428301f6bf46"
   },
   "outputs": [],
   "source": [
    "# get a single image\n",
    "x, y = next(iter(data.val_ds))"
   ]
  },
  {
   "cell_type": "code",
   "execution_count": 14,
   "metadata": {
    "_uuid": "0ac8027a2600fd6ca117806eb11f7b0f9dd6ee36"
   },
   "outputs": [
    {
     "data": {
      "text/plain": [
       "array([[[-1.28147, -1.20441, -1.11049, ..., -1.30127, -1.2531 , -1.12841],\n",
       "        [-1.22795, -1.18675, -1.11771, ..., -1.35211, -1.38903, -1.32588],\n",
       "        [-1.17256, -1.15624, -1.12092, ..., -1.30876, -1.4083 , -1.42061],\n",
       "        ...,\n",
       "        [-0.51246, -0.45199, -0.39901, ..., -0.88251, -0.77415, -0.63661],\n",
       "        [-0.54296, -0.46644, -0.39901, ..., -0.7613 , -0.64089, -0.51299],\n",
       "        [-0.5641 , -0.46965, -0.39901, ..., -0.66926, -0.54724, -0.42683]],\n",
       "\n",
       "       [[-0.94371, -0.89612, -0.81898, ..., -1.04657, -1.02851, -0.91964],\n",
       "        [-0.92402, -0.88135, -0.82062, ..., -1.09964, -1.098  , -1.00171],\n",
       "        [-0.89858, -0.86493, -0.8239 , ..., -1.08322, -1.12097, -1.07474],\n",
       "        ...,\n",
       "        [-0.28501, -0.24125, -0.18462, ..., -0.55829, -0.46884, -0.39142],\n",
       "        [-0.31127, -0.26751, -0.20842, ..., -0.47376, -0.37693, -0.29377],\n",
       "        [-0.33097, -0.28337, -0.2128 , ..., -0.44258, -0.3441 , -0.26094]],\n",
       "\n",
       "       [[-0.82187, -0.79464, -0.7399 , ..., -0.93353, -0.89431, -0.78647],\n",
       "        [-0.77885, -0.76414, -0.7429 , ..., -0.94333, -0.96458, -0.90575],\n",
       "        [-0.72819, -0.72983, -0.72819, ..., -0.87471, -0.94497, -0.93353],\n",
       "        ...,\n",
       "        [-0.47629, -0.40684, -0.36436, ..., -0.57786, -0.49617, -0.42236],\n",
       "        [-0.51305, -0.41664, -0.34475, ..., -0.53702, -0.44061, -0.35782],\n",
       "        [-0.53456, -0.41882, -0.33467, ..., -0.52993, -0.42046, -0.33386]]], dtype=float32)"
      ]
     },
     "execution_count": 14,
     "metadata": {},
     "output_type": "execute_result"
    }
   ],
   "source": [
    "x"
   ]
  },
  {
   "cell_type": "code",
   "execution_count": 15,
   "metadata": {
    "_uuid": "eda3f552a24208b72973a437e9ae7db574712c01"
   },
   "outputs": [
    {
     "data": {
      "text/plain": [
       "array([1., 0., 0., 0., 0., 1., 0., 0., 0., 0., 0., 0., 1., 0., 0., 0., 1.], dtype=float32)"
      ]
     },
     "execution_count": 15,
     "metadata": {},
     "output_type": "execute_result"
    }
   ],
   "source": [
    "y"
   ]
  },
  {
   "cell_type": "code",
   "execution_count": 16,
   "metadata": {
    "_uuid": "fca35f3bc3d66d57b5bec352301ecf014319b9d0"
   },
   "outputs": [
    {
     "data": {
      "text/plain": [
       "[('agriculture', 1.0),\n",
       " ('artisinal_mine', 0.0),\n",
       " ('bare_ground', 0.0),\n",
       " ('blooming', 0.0),\n",
       " ('blow_down', 0.0),\n",
       " ('clear', 1.0),\n",
       " ('cloudy', 0.0),\n",
       " ('conventional_mine', 0.0),\n",
       " ('cultivation', 0.0),\n",
       " ('habitation', 0.0),\n",
       " ('haze', 0.0),\n",
       " ('partly_cloudy', 0.0),\n",
       " ('primary', 1.0),\n",
       " ('road', 0.0),\n",
       " ('selective_logging', 0.0),\n",
       " ('slash_burn', 0.0),\n",
       " ('water', 1.0)]"
      ]
     },
     "execution_count": 16,
     "metadata": {},
     "output_type": "execute_result"
    }
   ],
   "source": [
    "list(zip(data.classes, y))"
   ]
  },
  {
   "cell_type": "code",
   "execution_count": 17,
   "metadata": {
    "_uuid": "80b4cf6d3bfdcde283d74fd03856d61192dcaa7f"
   },
   "outputs": [],
   "source": [
    "#plt.imshow(data.val_ds.denorm(to_np(x)[0])*1.4)"
   ]
  },
  {
   "cell_type": "code",
   "execution_count": 18,
   "metadata": {
    "_uuid": "b882c5e1b2edee7aaf31a14aafaaffb7bfa36770"
   },
   "outputs": [],
   "source": [
    "data2 = get_data(64)"
   ]
  },
  {
   "cell_type": "code",
   "execution_count": 19,
   "metadata": {
    "_uuid": "2a2b00fc169c7fe580fdc33b36235230db2b26d3"
   },
   "outputs": [
    {
     "data": {
      "application/vnd.jupyter.widget-view+json": {
       "model_id": "3f2e5384e7ac44a98d86927aa345a1d4",
       "version_major": 2,
       "version_minor": 0
      },
      "text/plain": [
       "HBox(children=(IntProgress(value=0, max=6), HTML(value='')))"
      ]
     },
     "metadata": {},
     "output_type": "display_data"
    },
    {
     "name": "stdout",
     "output_type": "stream",
     "text": [
      "\n"
     ]
    }
   ],
   "source": [
    "data2 = data2.resize(int(64*1.3), \"tmp\")"
   ]
  },
  {
   "cell_type": "markdown",
   "metadata": {
    "_uuid": "df52ab4ed0ca473bc1a47ca8f10c90fcd9b2ce54"
   },
   "source": [
    "# Model"
   ]
  },
  {
   "cell_type": "markdown",
   "metadata": {
    "_uuid": "b95de663c1a7156da866e25bc50af944ccd36444"
   },
   "source": [
    "## Baseline"
   ]
  },
  {
   "cell_type": "code",
   "execution_count": 20,
   "metadata": {
    "_uuid": "5d227d982b07761a8c9fad8854fa9c031ab787bb"
   },
   "outputs": [],
   "source": [
    "learn = ConvLearner.pretrained(arch, data2, metrics=metrics)"
   ]
  },
  {
   "cell_type": "code",
   "execution_count": 22,
   "metadata": {
    "_uuid": "2cd26fd272408c23725f9615bf57142322e3db37"
   },
   "outputs": [
    {
     "data": {
      "application/vnd.jupyter.widget-view+json": {
       "model_id": "bbdab3d769d34efe95848eaf476383a3",
       "version_major": 2,
       "version_minor": 0
      },
      "text/plain": [
       "HBox(children=(IntProgress(value=0, description='Epoch', max=1), HTML(value='')))"
      ]
     },
     "metadata": {},
     "output_type": "display_data"
    },
    {
     "name": "stdout",
     "output_type": "stream",
     "text": [
      "epoch      trn_loss   val_loss   f2                          \n",
      "    0      0.232699   0.323957   0.771243  \n",
      "\n"
     ]
    }
   ],
   "source": [
    "lrf = learn.lr_find()"
   ]
  },
  {
   "cell_type": "code",
   "execution_count": 23,
   "metadata": {
    "_uuid": "10064868c002075c209d58161d635a5f153e8331"
   },
   "outputs": [
    {
     "data": {
      "image/png": "[encoded data removed]",
      "text/plain": [
       "<Figure size 432x288 with 1 Axes>"
      ]
     },
     "metadata": {},
     "output_type": "display_data"
    }
   ],
   "source": [
    "learn.sched.plot()"
   ]
  },
  {
   "cell_type": "code",
   "execution_count": 25,
   "metadata": {
    "_uuid": "06b6175384b583bc8e7f0c7f0242fe42d5a27100"
   },
   "outputs": [],
   "source": [
    "lr = 0.2"
   ]
  },
  {
   "cell_type": "code",
   "execution_count": 25,
   "metadata": {
    "_uuid": "84f7c25361ce509167072ea46e845064a0dfc1c4"
   },
   "outputs": [
    {
     "data": {
      "application/vnd.jupyter.widget-view+json": {
       "model_id": "dbc4d5fd937548f18a815cb0384851db",
       "version_major": 2,
       "version_minor": 0
      },
      "text/plain": [
       "HBox(children=(IntProgress(value=0, description='Epoch', max=7), HTML(value='')))"
      ]
     },
     "metadata": {},
     "output_type": "display_data"
    },
    {
     "name": "stdout",
     "output_type": "stream",
     "text": [
      "epoch      trn_loss   val_loss   f2                          \n",
      "    0      0.147266   0.133782   0.881559  \n",
      "    1      0.140418   0.127907   0.888978                    \n",
      "    2      0.137227   0.125767   0.891433                    \n",
      "    3      0.141837   0.124971   0.892385                    \n",
      "    4      0.134653   0.123367   0.892754                    \n",
      "    5      0.132763   0.121477   0.895045                    \n",
      "    6      0.131274   0.121397   0.89522                     \n",
      "\n"
     ]
    },
    {
     "data": {
      "text/plain": [
       "[array([0.1214]), 0.8952199442164059]"
      ]
     },
     "execution_count": 25,
     "metadata": {},
     "output_type": "execute_result"
    }
   ],
   "source": [
    "learn.fit(lr, 3, cycle_len=1, cycle_mult=2)"
   ]
  },
  {
   "cell_type": "code",
   "execution_count": 26,
   "metadata": {
    "_uuid": "77e99d6d5c3e75feded3810cab7e694437ca61f2"
   },
   "outputs": [
    {
     "data": {
      "image/png": "[encoded data removed]",
      "text/plain": [
       "<Figure size 432x288 with 1 Axes>"
      ]
     },
     "metadata": {},
     "output_type": "display_data"
    }
   ],
   "source": [
    "learn.sched.plot_loss()"
   ]
  },
  {
   "cell_type": "code",
   "execution_count": 30,
   "metadata": {},
   "outputs": [],
   "source": [
    "learn.save(f\"{comp_name}_{arch.__name__}_{sz}_base\")"
   ]
  },
  {
   "cell_type": "code",
   "execution_count": null,
   "metadata": {},
   "outputs": [],
   "source": [
    "learn.load(f\"{comp_name}_{arch.__name__}_{sz}_base\")"
   ]
  },
  {
   "cell_type": "markdown",
   "metadata": {
    "_uuid": "1c27b7fb2dac0b17e7bedf7bb98f79bae7584587"
   },
   "source": [
    "## Differential learning rates"
   ]
  },
  {
   "cell_type": "code",
   "execution_count": 26,
   "metadata": {
    "_uuid": "3bafbde0d828cd479fefe8bc007637ab108df4db"
   },
   "outputs": [],
   "source": [
    "lrs = [lr/9, lr/3, lr]"
   ]
  },
  {
   "cell_type": "code",
   "execution_count": 32,
   "metadata": {
    "_uuid": "ddeffe58118874b9c50c9a6f44d87e6f2da9a238"
   },
   "outputs": [
    {
     "data": {
      "application/vnd.jupyter.widget-view+json": {
       "model_id": "c77a6cd2a4c643fdaabaee1d2e3cf3f5",
       "version_major": 2,
       "version_minor": 0
      },
      "text/plain": [
       "HBox(children=(IntProgress(value=0, description='Epoch', max=7), HTML(value='')))"
      ]
     },
     "metadata": {},
     "output_type": "display_data"
    },
    {
     "name": "stdout",
     "output_type": "stream",
     "text": [
      "epoch      trn_loss   val_loss   f2                          \n",
      "    0      0.120823   0.108943   0.907554  \n",
      "    1      0.117287   0.106633   0.91252                     \n",
      "    2      0.109353   0.100711   0.915386                    \n",
      "    3      0.110576   0.102643   0.913382                    \n",
      "    4      0.107191   0.099672   0.917178                    \n",
      "    5      0.101947   0.097254   0.919946                     \n",
      "    6      0.098051   0.096558   0.918867                     \n",
      "\n",
      "CPU times: user 11min 22s, sys: 4min 9s, total: 15min 32s\n",
      "Wall time: 11min 10s\n"
     ]
    },
    {
     "data": {
      "text/plain": [
       "[array([0.09656]), 0.9188665158848887]"
      ]
     },
     "execution_count": 32,
     "metadata": {},
     "output_type": "execute_result"
    }
   ],
   "source": [
    "learn.unfreeze()\n",
    "learn.fit(lrs, 3, cycle_len=1, cycle_mult=2)"
   ]
  },
  {
   "cell_type": "code",
   "execution_count": 33,
   "metadata": {
    "_uuid": "6d7a5b3cba962b81026141f78e81d5e8a3abe7cd"
   },
   "outputs": [
    {
     "data": {
      "image/png": "[encoded data removed]",
      "text/plain": [
       "<Figure size 432x288 with 1 Axes>"
      ]
     },
     "metadata": {},
     "output_type": "display_data"
    }
   ],
   "source": [
    "learn.sched.plot_loss()"
   ]
  },
  {
   "cell_type": "code",
   "execution_count": 34,
   "metadata": {},
   "outputs": [],
   "source": [
    "learn.save(f\"{comp_name}_{arch.__name__}_{sz}_dr\")"
   ]
  },
  {
   "cell_type": "code",
   "execution_count": 35,
   "metadata": {},
   "outputs": [],
   "source": [
    "learn.load(f\"{comp_name}_{arch.__name__}_{sz}_dr\")"
   ]
  },
  {
   "cell_type": "markdown",
   "metadata": {
    "_uuid": "eb1a04a0e11fd0b3b4e3fde9574a69e22fad0a5d"
   },
   "source": [
    "## Increase image size to 128 pixels"
   ]
  },
  {
   "cell_type": "code",
   "execution_count": 21,
   "metadata": {},
   "outputs": [],
   "source": [
    "sz = 128"
   ]
  },
  {
   "cell_type": "code",
   "execution_count": 37,
   "metadata": {
    "_uuid": "8c5dc3d5be57116f5560ec9f06cb5b5c0bd9f169"
   },
   "outputs": [
    {
     "data": {
      "application/vnd.jupyter.widget-view+json": {
       "model_id": "d3c53279a11e43b8944e66cc8bb63fee",
       "version_major": 2,
       "version_minor": 0
      },
      "text/plain": [
       "HBox(children=(IntProgress(value=0, description='Epoch', max=7), HTML(value='')))"
      ]
     },
     "metadata": {},
     "output_type": "display_data"
    },
    {
     "name": "stdout",
     "output_type": "stream",
     "text": [
      "epoch      trn_loss   val_loss   f2                           \n",
      "    0      0.097295   0.094818   0.919051  \n",
      "    1      0.09833    0.092778   0.921079                     \n",
      "    2      0.099773   0.092857   0.920725                     \n",
      "    3      0.09797    0.09281    0.921811                     \n",
      "    4      0.094822   0.092292   0.920843                     \n",
      "    5      0.095216   0.091622   0.922164                     \n",
      "    6      0.096292   0.091818   0.921971                     \n",
      "\n"
     ]
    },
    {
     "data": {
      "text/plain": [
       "[array([0.09182]), 0.9219705869734545]"
      ]
     },
     "execution_count": 37,
     "metadata": {},
     "output_type": "execute_result"
    }
   ],
   "source": [
    "learn.set_data(get_data(sz))\n",
    "learn.freeze()\n",
    "learn.fit(lr, 3, cycle_len=1, cycle_mult=2)"
   ]
  },
  {
   "cell_type": "code",
   "execution_count": 27,
   "metadata": {
    "_uuid": "385600ca75d939a6abc18a25512593414fd4017f"
   },
   "outputs": [
    {
     "data": {
      "application/vnd.jupyter.widget-view+json": {
       "model_id": "9a6c053dedbc4e8a981ba1567ecf7eed",
       "version_major": 2,
       "version_minor": 0
      },
      "text/plain": [
       "HBox(children=(IntProgress(value=0, description='Epoch', max=7), HTML(value='')))"
      ]
     },
     "metadata": {},
     "output_type": "display_data"
    },
    {
     "name": "stdout",
     "output_type": "stream",
     "text": [
      "epoch      trn_loss   val_loss   f2                           \n",
      "    0      0.103189   0.096573   0.918673  \n",
      "    1      0.102821   0.098465   0.916815                    \n",
      "    2      0.098651   0.095492   0.920468                     \n",
      "    3      0.099063   0.097414   0.920367                     \n",
      "    4      0.100736   0.095971   0.920036                     \n",
      "    5      0.093614   0.095156   0.920124                     \n",
      "    6      0.091859   0.094111   0.921319                     \n",
      "\n"
     ]
    },
    {
     "data": {
      "text/plain": [
       "[array([0.09411]), 0.9213185050470052]"
      ]
     },
     "execution_count": 27,
     "metadata": {},
     "output_type": "execute_result"
    }
   ],
   "source": [
    "learn.unfreeze()\n",
    "learn.fit(lrs, 3, cycle_len=1, cycle_mult=2)"
   ]
  },
  {
   "cell_type": "code",
   "execution_count": 28,
   "metadata": {},
   "outputs": [],
   "source": [
    "learn.save(f\"{comp_name}_{arch.__name__}_{sz}\")"
   ]
  },
  {
   "cell_type": "code",
   "execution_count": 29,
   "metadata": {},
   "outputs": [],
   "source": [
    "learn.load(f\"{comp_name}_{arch.__name__}_{sz}\")"
   ]
  },
  {
   "cell_type": "markdown",
   "metadata": {
    "_uuid": "3f3cfc184e52a7711e9157f99cc8bd7987420f26"
   },
   "source": [
    "## Further increase image size to 256 pixels"
   ]
  },
  {
   "cell_type": "code",
   "execution_count": 31,
   "metadata": {
    "_uuid": "a52572a9fdfa14e6d8bdc8c8ee76a3eaea0f66e1"
   },
   "outputs": [
    {
     "data": {
      "application/vnd.jupyter.widget-view+json": {
       "model_id": "a23b85d9556a4aad93200ab6ec34ac99",
       "version_major": 2,
       "version_minor": 0
      },
      "text/plain": [
       "HBox(children=(IntProgress(value=0, description='Epoch', max=7), HTML(value='')))"
      ]
     },
     "metadata": {},
     "output_type": "display_data"
    },
    {
     "name": "stdout",
     "output_type": "stream",
     "text": [
      "epoch      trn_loss   val_loss   f2                          \n",
      "    0      0.10982    0.103733   0.90994   \n",
      "    1      0.103789   0.098262   0.916241                    \n",
      "    2      0.102225   0.097567   0.916727                    \n",
      "    3      0.105362   0.096919   0.917682                    \n",
      "    4      0.104482   0.096019   0.917304                     \n",
      "    5      0.103142   0.094587   0.919591                     \n",
      "    6      0.100758   0.094681   0.919554                     \n",
      "\n"
     ]
    },
    {
     "data": {
      "text/plain": [
       "[array([0.09468]), 0.919553774661241]"
      ]
     },
     "execution_count": 31,
     "metadata": {},
     "output_type": "execute_result"
    }
   ],
   "source": [
    "sz = 256\n",
    "learn.set_data(get_data(sz))\n",
    "learn.freeze()\n",
    "learn.fit(lr, 3, cycle_len=1, cycle_mult=2)"
   ]
  },
  {
   "cell_type": "code",
   "execution_count": 32,
   "metadata": {},
   "outputs": [],
   "source": [
    "learn.save(f\"{comp_name}_{arch.__name__}_{sz}\")"
   ]
  },
  {
   "cell_type": "code",
   "execution_count": null,
   "metadata": {
    "_kg_hide-input": false,
    "_kg_hide-output": false,
    "_uuid": "b3aed6d52864e5c7eb78e6d3fab4c5d80a4460c2",
    "collapsed": true
   },
   "outputs": [],
   "source": [
    "learn.unfreeze()\n",
    "learn.fit(lrs, cycle_len=1, cycle_mult=2)"
   ]
  },
  {
   "cell_type": "code",
   "execution_count": null,
   "metadata": {},
   "outputs": [],
   "source": [
    "learn.load(f\"{comp_name}_{arch.__name__}_{sz}\")"
   ]
  },
  {
   "cell_type": "markdown",
   "metadata": {
    "_uuid": "68abeb979af1d1cb5c0a1c01d04a272389414667"
   },
   "source": [
    "## Prediction on validation set"
   ]
  },
  {
   "cell_type": "code",
   "execution_count": null,
   "metadata": {
    "_uuid": "e4474b077a29af2458fc918e5e0f699f7e60863a",
    "collapsed": true
   },
   "outputs": [],
   "source": [
    "multi_preds, y = learn.TTA()\n",
    "preds = np.mean(multi_preds, 0) # average over 4 synthetic images generated by TTA and 1 original image"
   ]
  },
  {
   "cell_type": "code",
   "execution_count": null,
   "metadata": {
    "_uuid": "49d59fc24ce33821b2878568fcd43015f3ce8feb",
    "collapsed": true
   },
   "outputs": [],
   "source": [
    "f2(preds, y)"
   ]
  },
  {
   "cell_type": "markdown",
   "metadata": {
    "_uuid": "de0f0eb2b60ac82d89538f26121cf6536f5ea37a"
   },
   "source": [
    "## Prediction on test set"
   ]
  },
  {
   "cell_type": "code",
   "execution_count": null,
   "metadata": {
    "_uuid": "59b427a070b78191ff5e9a88f5b84de320722529",
    "collapsed": true
   },
   "outputs": [],
   "source": [
    "multi_preds_test, y_test = learn.TTA(is_test=est=True)\n",
    "preds_test = np.mean(multi_preds_test, 0)"
   ]
  },
  {
   "cell_type": "code",
   "execution_count": null,
   "metadata": {
    "_uuid": "c4bffb76171d74c9889351fd17600d211f1932d9",
    "collapsed": true
   },
   "outputs": [],
   "source": [
    "f2(preds_test, y_test)"
   ]
  },
  {
   "cell_type": "markdown",
   "metadata": {
    "_uuid": "79900404e48413ad527f35dce61464bf361b1733"
   },
   "source": [
    "# Submission"
   ]
  },
  {
   "cell_type": "code",
   "execution_count": null,
   "metadata": {},
   "outputs": [],
   "source": [
    "sample_df = pd.read_csv(f\"{wd}sample.csv)"
   ]
  },
  {
   "cell_type": "code",
   "execution_count": null,
   "metadata": {},
   "outputs": [],
   "source": [
    "sample_df.head()"
   ]
  },
  {
   "cell_type": "code",
   "execution_count": null,
   "metadata": {},
   "outputs": [],
   "source": []
  },
  {
   "cell_type": "code",
   "execution_count": null,
   "metadata": {
    "_uuid": "6b0f5bfe9ce2120245564b21973034161d74b40c",
    "collapsed": true
   },
   "outputs": [],
   "source": [
    "df = pd.DataFrameFrame(preds_test)"
   ]
  },
  {
   "cell_type": "code",
   "execution_count": null,
   "metadata": {
    "_uuid": "000f5299e74bdf68523bca0f515ee2a4460d7a36",
    "collapsed": true
   },
   "outputs": [],
   "source": [
    "df.head()"
   ]
  }
 ],
 "metadata": {
  "kernelspec": {
   "display_name": "Python 3",
   "language": "python",
   "name": "python3"
  },
  "language_info": {
   "codemirror_mode": {
    "name": "ipython",
    "version": 3
   },
   "file_extension": ".py",
   "mimetype": "text/x-python",
   "name": "python",
   "nbconvert_exporter": "python",
   "pygments_lexer": "ipython3",
   "version": "3.6.6"
  }
 },
 "nbformat": 4,
 "nbformat_minor": 1
}
